{
  "cells": [
    {
      "cell_type": "markdown",
      "metadata": {
        "id": "view-in-github",
        "colab_type": "text"
      },
      "source": [
        "<a href=\"https://colab.research.google.com/github/tiachoi2001/ToBigs20/blob/main/Week3_DecisionTree_1.ipynb\" target=\"_parent\"><img src=\"https://colab.research.google.com/assets/colab-badge.svg\" alt=\"Open In Colab\"/></a>"
      ]
    },
    {
      "cell_type": "markdown",
      "metadata": {
        "id": "SDiIu04mDyFS"
      },
      "source": [
        "# DecisionTree Assignment - 20기 최태은\n",
        "\n",
        "물음표 친 부분을 채우고 코드에 대한 주석을 자세하게 달아주세요!"
      ]
    },
    {
      "cell_type": "markdown",
      "metadata": {
        "id": "YOjoR8XfDyFX"
      },
      "source": [
        "# Data Loading"
      ]
    },
    {
      "cell_type": "code",
      "source": [
        "from google.colab import drive\n",
        "drive.mount(\"/content/drive\")"
      ],
      "metadata": {
        "colab": {
          "base_uri": "https://localhost:8080/"
        },
        "id": "zkY1Yjqna1tt",
        "outputId": "3fc815a2-74d0-4642-cf1f-c261f665abca"
      },
      "execution_count": null,
      "outputs": [
        {
          "output_type": "stream",
          "name": "stdout",
          "text": [
            "Mounted at /content/drive\n"
          ]
        }
      ]
    },
    {
      "cell_type": "code",
      "execution_count": null,
      "metadata": {
        "id": "dCa1XDZzDyFX"
      },
      "outputs": [],
      "source": [
        "import pandas as pd\n",
        "import numpy as np"
      ]
    },
    {
      "cell_type": "code",
      "execution_count": null,
      "metadata": {
        "colab": {
          "base_uri": "https://localhost:8080/",
          "height": 488
        },
        "id": "4wxdk2LYDyFZ",
        "outputId": "4dce4e5e-d71a-40c3-84cf-ca1e33302a23"
      },
      "outputs": [
        {
          "output_type": "execute_result",
          "data": {
            "text/plain": [
              "            age  income student credit_rating class_buys_computer\n",
              "0         youth    high      no          fair                  no\n",
              "1         youth    high      no     excellent                  no\n",
              "2   middle_aged    high      no          fair                 yes\n",
              "3        senior  medium      no          fair                 yes\n",
              "4        senior     low     yes          fair                 yes\n",
              "5        senior     low     yes     excellent                  no\n",
              "6   middle_aged     low     yes     excellent                 yes\n",
              "7         youth  medium      no          fair                  no\n",
              "8         youth     low     yes          fair                 yes\n",
              "9        senior  medium     yes          fair                 yes\n",
              "10        youth  medium     yes     excellent                 yes\n",
              "11  middle_aged  medium      no     excellent                 yes\n",
              "12  middle_aged    high     yes          fair                 yes\n",
              "13       senior  medium      no     excellent                  no"
            ],
            "text/html": [
              "\n",
              "\n",
              "  <div id=\"df-a55ebd9f-78e3-42bf-b1ac-4a306be5ac81\">\n",
              "    <div class=\"colab-df-container\">\n",
              "      <div>\n",
              "<style scoped>\n",
              "    .dataframe tbody tr th:only-of-type {\n",
              "        vertical-align: middle;\n",
              "    }\n",
              "\n",
              "    .dataframe tbody tr th {\n",
              "        vertical-align: top;\n",
              "    }\n",
              "\n",
              "    .dataframe thead th {\n",
              "        text-align: right;\n",
              "    }\n",
              "</style>\n",
              "<table border=\"1\" class=\"dataframe\">\n",
              "  <thead>\n",
              "    <tr style=\"text-align: right;\">\n",
              "      <th></th>\n",
              "      <th>age</th>\n",
              "      <th>income</th>\n",
              "      <th>student</th>\n",
              "      <th>credit_rating</th>\n",
              "      <th>class_buys_computer</th>\n",
              "    </tr>\n",
              "  </thead>\n",
              "  <tbody>\n",
              "    <tr>\n",
              "      <th>0</th>\n",
              "      <td>youth</td>\n",
              "      <td>high</td>\n",
              "      <td>no</td>\n",
              "      <td>fair</td>\n",
              "      <td>no</td>\n",
              "    </tr>\n",
              "    <tr>\n",
              "      <th>1</th>\n",
              "      <td>youth</td>\n",
              "      <td>high</td>\n",
              "      <td>no</td>\n",
              "      <td>excellent</td>\n",
              "      <td>no</td>\n",
              "    </tr>\n",
              "    <tr>\n",
              "      <th>2</th>\n",
              "      <td>middle_aged</td>\n",
              "      <td>high</td>\n",
              "      <td>no</td>\n",
              "      <td>fair</td>\n",
              "      <td>yes</td>\n",
              "    </tr>\n",
              "    <tr>\n",
              "      <th>3</th>\n",
              "      <td>senior</td>\n",
              "      <td>medium</td>\n",
              "      <td>no</td>\n",
              "      <td>fair</td>\n",
              "      <td>yes</td>\n",
              "    </tr>\n",
              "    <tr>\n",
              "      <th>4</th>\n",
              "      <td>senior</td>\n",
              "      <td>low</td>\n",
              "      <td>yes</td>\n",
              "      <td>fair</td>\n",
              "      <td>yes</td>\n",
              "    </tr>\n",
              "    <tr>\n",
              "      <th>5</th>\n",
              "      <td>senior</td>\n",
              "      <td>low</td>\n",
              "      <td>yes</td>\n",
              "      <td>excellent</td>\n",
              "      <td>no</td>\n",
              "    </tr>\n",
              "    <tr>\n",
              "      <th>6</th>\n",
              "      <td>middle_aged</td>\n",
              "      <td>low</td>\n",
              "      <td>yes</td>\n",
              "      <td>excellent</td>\n",
              "      <td>yes</td>\n",
              "    </tr>\n",
              "    <tr>\n",
              "      <th>7</th>\n",
              "      <td>youth</td>\n",
              "      <td>medium</td>\n",
              "      <td>no</td>\n",
              "      <td>fair</td>\n",
              "      <td>no</td>\n",
              "    </tr>\n",
              "    <tr>\n",
              "      <th>8</th>\n",
              "      <td>youth</td>\n",
              "      <td>low</td>\n",
              "      <td>yes</td>\n",
              "      <td>fair</td>\n",
              "      <td>yes</td>\n",
              "    </tr>\n",
              "    <tr>\n",
              "      <th>9</th>\n",
              "      <td>senior</td>\n",
              "      <td>medium</td>\n",
              "      <td>yes</td>\n",
              "      <td>fair</td>\n",
              "      <td>yes</td>\n",
              "    </tr>\n",
              "    <tr>\n",
              "      <th>10</th>\n",
              "      <td>youth</td>\n",
              "      <td>medium</td>\n",
              "      <td>yes</td>\n",
              "      <td>excellent</td>\n",
              "      <td>yes</td>\n",
              "    </tr>\n",
              "    <tr>\n",
              "      <th>11</th>\n",
              "      <td>middle_aged</td>\n",
              "      <td>medium</td>\n",
              "      <td>no</td>\n",
              "      <td>excellent</td>\n",
              "      <td>yes</td>\n",
              "    </tr>\n",
              "    <tr>\n",
              "      <th>12</th>\n",
              "      <td>middle_aged</td>\n",
              "      <td>high</td>\n",
              "      <td>yes</td>\n",
              "      <td>fair</td>\n",
              "      <td>yes</td>\n",
              "    </tr>\n",
              "    <tr>\n",
              "      <th>13</th>\n",
              "      <td>senior</td>\n",
              "      <td>medium</td>\n",
              "      <td>no</td>\n",
              "      <td>excellent</td>\n",
              "      <td>no</td>\n",
              "    </tr>\n",
              "  </tbody>\n",
              "</table>\n",
              "</div>\n",
              "      <button class=\"colab-df-convert\" onclick=\"convertToInteractive('df-a55ebd9f-78e3-42bf-b1ac-4a306be5ac81')\"\n",
              "              title=\"Convert this dataframe to an interactive table.\"\n",
              "              style=\"display:none;\">\n",
              "\n",
              "  <svg xmlns=\"http://www.w3.org/2000/svg\" height=\"24px\"viewBox=\"0 0 24 24\"\n",
              "       width=\"24px\">\n",
              "    <path d=\"M0 0h24v24H0V0z\" fill=\"none\"/>\n",
              "    <path d=\"M18.56 5.44l.94 2.06.94-2.06 2.06-.94-2.06-.94-.94-2.06-.94 2.06-2.06.94zm-11 1L8.5 8.5l.94-2.06 2.06-.94-2.06-.94L8.5 2.5l-.94 2.06-2.06.94zm10 10l.94 2.06.94-2.06 2.06-.94-2.06-.94-.94-2.06-.94 2.06-2.06.94z\"/><path d=\"M17.41 7.96l-1.37-1.37c-.4-.4-.92-.59-1.43-.59-.52 0-1.04.2-1.43.59L10.3 9.45l-7.72 7.72c-.78.78-.78 2.05 0 2.83L4 21.41c.39.39.9.59 1.41.59.51 0 1.02-.2 1.41-.59l7.78-7.78 2.81-2.81c.8-.78.8-2.07 0-2.86zM5.41 20L4 18.59l7.72-7.72 1.47 1.35L5.41 20z\"/>\n",
              "  </svg>\n",
              "      </button>\n",
              "\n",
              "\n",
              "\n",
              "    <div id=\"df-026badec-26ad-4909-a156-3b21cf3d069f\">\n",
              "      <button class=\"colab-df-quickchart\" onclick=\"quickchart('df-026badec-26ad-4909-a156-3b21cf3d069f')\"\n",
              "              title=\"Suggest charts.\"\n",
              "              style=\"display:none;\">\n",
              "\n",
              "<svg xmlns=\"http://www.w3.org/2000/svg\" height=\"24px\"viewBox=\"0 0 24 24\"\n",
              "     width=\"24px\">\n",
              "    <g>\n",
              "        <path d=\"M19 3H5c-1.1 0-2 .9-2 2v14c0 1.1.9 2 2 2h14c1.1 0 2-.9 2-2V5c0-1.1-.9-2-2-2zM9 17H7v-7h2v7zm4 0h-2V7h2v10zm4 0h-2v-4h2v4z\"/>\n",
              "    </g>\n",
              "</svg>\n",
              "      </button>\n",
              "    </div>\n",
              "\n",
              "<style>\n",
              "  .colab-df-quickchart {\n",
              "    background-color: #E8F0FE;\n",
              "    border: none;\n",
              "    border-radius: 50%;\n",
              "    cursor: pointer;\n",
              "    display: none;\n",
              "    fill: #1967D2;\n",
              "    height: 32px;\n",
              "    padding: 0 0 0 0;\n",
              "    width: 32px;\n",
              "  }\n",
              "\n",
              "  .colab-df-quickchart:hover {\n",
              "    background-color: #E2EBFA;\n",
              "    box-shadow: 0px 1px 2px rgba(60, 64, 67, 0.3), 0px 1px 3px 1px rgba(60, 64, 67, 0.15);\n",
              "    fill: #174EA6;\n",
              "  }\n",
              "\n",
              "  [theme=dark] .colab-df-quickchart {\n",
              "    background-color: #3B4455;\n",
              "    fill: #D2E3FC;\n",
              "  }\n",
              "\n",
              "  [theme=dark] .colab-df-quickchart:hover {\n",
              "    background-color: #434B5C;\n",
              "    box-shadow: 0px 1px 3px 1px rgba(0, 0, 0, 0.15);\n",
              "    filter: drop-shadow(0px 1px 2px rgba(0, 0, 0, 0.3));\n",
              "    fill: #FFFFFF;\n",
              "  }\n",
              "</style>\n",
              "\n",
              "    <script>\n",
              "      async function quickchart(key) {\n",
              "        const containerElement = document.querySelector('#' + key);\n",
              "        const charts = await google.colab.kernel.invokeFunction(\n",
              "            'suggestCharts', [key], {});\n",
              "      }\n",
              "    </script>\n",
              "\n",
              "      <script>\n",
              "\n",
              "function displayQuickchartButton(domScope) {\n",
              "  let quickchartButtonEl =\n",
              "    domScope.querySelector('#df-026badec-26ad-4909-a156-3b21cf3d069f button.colab-df-quickchart');\n",
              "  quickchartButtonEl.style.display =\n",
              "    google.colab.kernel.accessAllowed ? 'block' : 'none';\n",
              "}\n",
              "\n",
              "        displayQuickchartButton(document);\n",
              "      </script>\n",
              "      <style>\n",
              "    .colab-df-container {\n",
              "      display:flex;\n",
              "      flex-wrap:wrap;\n",
              "      gap: 12px;\n",
              "    }\n",
              "\n",
              "    .colab-df-convert {\n",
              "      background-color: #E8F0FE;\n",
              "      border: none;\n",
              "      border-radius: 50%;\n",
              "      cursor: pointer;\n",
              "      display: none;\n",
              "      fill: #1967D2;\n",
              "      height: 32px;\n",
              "      padding: 0 0 0 0;\n",
              "      width: 32px;\n",
              "    }\n",
              "\n",
              "    .colab-df-convert:hover {\n",
              "      background-color: #E2EBFA;\n",
              "      box-shadow: 0px 1px 2px rgba(60, 64, 67, 0.3), 0px 1px 3px 1px rgba(60, 64, 67, 0.15);\n",
              "      fill: #174EA6;\n",
              "    }\n",
              "\n",
              "    [theme=dark] .colab-df-convert {\n",
              "      background-color: #3B4455;\n",
              "      fill: #D2E3FC;\n",
              "    }\n",
              "\n",
              "    [theme=dark] .colab-df-convert:hover {\n",
              "      background-color: #434B5C;\n",
              "      box-shadow: 0px 1px 3px 1px rgba(0, 0, 0, 0.15);\n",
              "      filter: drop-shadow(0px 1px 2px rgba(0, 0, 0, 0.3));\n",
              "      fill: #FFFFFF;\n",
              "    }\n",
              "  </style>\n",
              "\n",
              "      <script>\n",
              "        const buttonEl =\n",
              "          document.querySelector('#df-a55ebd9f-78e3-42bf-b1ac-4a306be5ac81 button.colab-df-convert');\n",
              "        buttonEl.style.display =\n",
              "          google.colab.kernel.accessAllowed ? 'block' : 'none';\n",
              "\n",
              "        async function convertToInteractive(key) {\n",
              "          const element = document.querySelector('#df-a55ebd9f-78e3-42bf-b1ac-4a306be5ac81');\n",
              "          const dataTable =\n",
              "            await google.colab.kernel.invokeFunction('convertToInteractive',\n",
              "                                                     [key], {});\n",
              "          if (!dataTable) return;\n",
              "\n",
              "          const docLinkHtml = 'Like what you see? Visit the ' +\n",
              "            '<a target=\"_blank\" href=https://colab.research.google.com/notebooks/data_table.ipynb>data table notebook</a>'\n",
              "            + ' to learn more about interactive tables.';\n",
              "          element.innerHTML = '';\n",
              "          dataTable['output_type'] = 'display_data';\n",
              "          await google.colab.output.renderOutput(dataTable, element);\n",
              "          const docLink = document.createElement('div');\n",
              "          docLink.innerHTML = docLinkHtml;\n",
              "          element.appendChild(docLink);\n",
              "        }\n",
              "      </script>\n",
              "    </div>\n",
              "  </div>\n"
            ]
          },
          "metadata": {},
          "execution_count": 3
        }
      ],
      "source": [
        "pd_data = pd.read_csv('https://raw.githubusercontent.com/AugustLONG/ML01/master/01decisiontree/AllElectronics.csv')\n",
        "pd_data.drop(\"RID\",axis=1, inplace = True) #RID는 그냥 순서라서 삭제\n",
        "pd_data"
      ]
    },
    {
      "cell_type": "markdown",
      "metadata": {
        "id": "87tYsM8hDyFa"
      },
      "source": [
        "## Gini 계수를 구하는 함수 만들기"
      ]
    },
    {
      "cell_type": "markdown",
      "metadata": {
        "id": "JHbFj556DyFa"
      },
      "source": [
        "<img src=\"gini.png\" width=\"200\">\n",
        "\n",
        "- Input: df(데이터), label(타겟변수명)\n",
        "- 해당 결과는 아래와 같이 나와야 합니다.\n",
        "\n",
        "- 지니계수는 데이터의 통계적 분산 정도를 정량화 해서 표현한 값이다.\n",
        "- 어떤 집합의 gini index가 높을수록 그 집단의 데이터가 분산되어 있음을 확인할 수 있다."
      ]
    },
    {
      "cell_type": "code",
      "execution_count": null,
      "metadata": {
        "id": "NDmq3fvODyFa"
      },
      "outputs": [],
      "source": [
        "def get_gini(df, label):\n",
        "    num = len(df)\n",
        "    gini = 1.0\n",
        "    unique_labels = df[label].unique()\n",
        "\n",
        "    for unique_label in unique_labels:\n",
        "        gini -= (len(df[df[label] == unique_label]) / num) ** 2\n",
        "\n",
        "    return gini"
      ]
    },
    {
      "cell_type": "code",
      "execution_count": null,
      "metadata": {
        "colab": {
          "base_uri": "https://localhost:8080/"
        },
        "id": "gw5y48B-DyFb",
        "outputId": "a6e48cc9-4e1e-4134-d52f-1fd97a50fb25"
      },
      "outputs": [
        {
          "output_type": "execute_result",
          "data": {
            "text/plain": [
              "0.4591836734693877"
            ]
          },
          "metadata": {},
          "execution_count": 8
        }
      ],
      "source": [
        "get_gini(pd_data,'class_buys_computer')"
      ]
    },
    {
      "cell_type": "markdown",
      "metadata": {
        "id": "_vvCAA9QDyFb"
      },
      "source": [
        "## Feature의 Class를 이진 분류로 만들기\n",
        "- ex) {A,B,C} -> ({A}, {B,C}), ({B}, {A,C}), ({C}, {A,B})"
      ]
    },
    {
      "cell_type": "markdown",
      "metadata": {
        "id": "W2huBbxzDyFc"
      },
      "source": [
        "- Input: df(데이터), attribute(Gini index를 구하고자 하는 변수명)\n",
        "- Income 변수를 결과로 출력해주세요."
      ]
    },
    {
      "cell_type": "code",
      "execution_count": null,
      "metadata": {
        "id": "QZdTYLJLDyFc"
      },
      "outputs": [],
      "source": [
        "from itertools import combinations\n",
        "\n",
        "def get_binary_split(df, attribute):\n",
        "    uniques = list(df[attribute].unique()) # 속성 데이터 고유값들을 담은 리스트\n",
        "    result = []\n",
        "    for i in range(1, len(uniques) + 1):\n",
        "        for u in combinations(uniques, i):\n",
        "            result.append(list(u))\n",
        "\n",
        "    return result"
      ]
    },
    {
      "cell_type": "code",
      "execution_count": null,
      "metadata": {
        "colab": {
          "base_uri": "https://localhost:8080/"
        },
        "id": "i0qIGR2yDyFc",
        "outputId": "fdba2f94-343d-49c3-e2ac-a9e1b48554f5"
      },
      "outputs": [
        {
          "output_type": "execute_result",
          "data": {
            "text/plain": [
              "[['high'],\n",
              " ['medium'],\n",
              " ['low'],\n",
              " ['high', 'medium'],\n",
              " ['high', 'low'],\n",
              " ['medium', 'low'],\n",
              " ['high', 'medium', 'low']]"
            ]
          },
          "metadata": {},
          "execution_count": 12
        }
      ],
      "source": [
        "get_binary_split(pd_data,'income')"
      ]
    },
    {
      "cell_type": "markdown",
      "metadata": {
        "id": "YB4EMBeRDyFc"
      },
      "source": [
        "## 모든 이진분류의 경우의 Gini index를 구하는 함수 만들기\n",
        "- 위에서 완성한 두 함수를 사용하여 만들어주세요!\n",
        "- 해당 결과는 아래와 같이 나와야 합니다."
      ]
    },
    {
      "cell_type": "code",
      "execution_count": null,
      "metadata": {
        "id": "HGbTfZTbDyFd"
      },
      "outputs": [],
      "source": [
        "def get_attribute_gini_index(df, attribute, label):\n",
        "\n",
        "    result = {}\n",
        "    split = get_binary_split(df, attribute)\n",
        "    n = len(df)\n",
        "\n",
        "    for s in split:\n",
        "        left_mask = df[attribute].isin(s)\n",
        "        right_mask = ~left_mask\n",
        "\n",
        "        left_subset = df[left_mask]\n",
        "        right_subset = df[right_mask]\n",
        "\n",
        "        left_gini = get_gini(left_subset, label)\n",
        "        right_gini = get_gini(right_subset, label)\n",
        "\n",
        "        weighted_gini = (len(left_subset) / n) * left_gini + (len(right_subset) / n) * right_gini\n",
        "        result[tuple(s)] = weighted_gini\n",
        "\n",
        "    return result"
      ]
    },
    {
      "cell_type": "code",
      "execution_count": null,
      "metadata": {
        "colab": {
          "base_uri": "https://localhost:8080/"
        },
        "id": "UZlUiJT1DyFd",
        "outputId": "250cedd8-f2bb-4720-f169-abccd4ccdb9d"
      },
      "outputs": [
        {
          "output_type": "execute_result",
          "data": {
            "text/plain": [
              "{('high',): 0.4428571428571429,\n",
              " ('medium',): 0.4583333333333333,\n",
              " ('low',): 0.45,\n",
              " ('high', 'medium'): 0.45,\n",
              " ('high', 'low'): 0.4583333333333333,\n",
              " ('medium', 'low'): 0.4428571428571429,\n",
              " ('high', 'medium', 'low'): 0.4591836734693877}"
            ]
          },
          "metadata": {},
          "execution_count": 37
        }
      ],
      "source": [
        "get_attribute_gini_index(pd_data, 'income', 'class_buys_computer')"
      ]
    },
    {
      "cell_type": "markdown",
      "metadata": {
        "id": "BvUbcXtiDyFd"
      },
      "source": [
        "- 여기서 가장 작은 Gini index값을 가지는 class를 확인합니다."
      ]
    },
    {
      "cell_type": "code",
      "execution_count": null,
      "metadata": {
        "colab": {
          "base_uri": "https://localhost:8080/"
        },
        "id": "cPqLtOGcDyFd",
        "outputId": "71a0ae59-42d7-4e0d-d183-b53272dbfd23"
      },
      "outputs": [
        {
          "output_type": "execute_result",
          "data": {
            "text/plain": [
              "(('high',), 0.4428571428571429)"
            ]
          },
          "metadata": {},
          "execution_count": 17
        }
      ],
      "source": [
        "min(get_attribute_gini_index(pd_data, 'income', 'class_buys_computer').items())"
      ]
    },
    {
      "cell_type": "code",
      "execution_count": null,
      "metadata": {
        "colab": {
          "base_uri": "https://localhost:8080/"
        },
        "id": "ese4dcA7DyFd",
        "outputId": "e48426a1-4759-4c21-b11f-84767fb11efe"
      },
      "outputs": [
        {
          "output_type": "execute_result",
          "data": {
            "text/plain": [
              "('high',)"
            ]
          },
          "metadata": {},
          "execution_count": 18
        }
      ],
      "source": [
        "min(get_attribute_gini_index(pd_data, 'income', 'class_buys_computer').items())[0]"
      ]
    },
    {
      "cell_type": "markdown",
      "metadata": {
        "id": "BPxpwDiGDyFd"
      },
      "source": [
        "## 분류를 하는 데 가장 중요한 변수를 선정하고, 해당 변수의 Gini index를 제시해주세요.\n",
        "- 모든 변수에 대한 Gini index(최소)를 출력해주세요.\n",
        "- 해당 결과는 아래와 같이 나와야 합니다."
      ]
    },
    {
      "cell_type": "code",
      "execution_count": null,
      "metadata": {
        "colab": {
          "base_uri": "https://localhost:8080/"
        },
        "id": "26KVJqaHDyFe",
        "outputId": "06a651d4-d81d-4d9e-d721-18116f29f01b"
      },
      "outputs": [
        {
          "output_type": "stream",
          "name": "stdout",
          "text": [
            "Minimum Gini index of age :0.3571\n",
            "Minimum Gini index of income :0.4429\n",
            "Minimum Gini index of student :0.3673\n",
            "Minimum Gini index of credit_rating :0.4286\n"
          ]
        }
      ],
      "source": [
        "# 변수명 중 마지막에 위치한 label 컬럼 얻기\n",
        "label = pd_data.columns[-1]\n",
        "# label 변수를 제외한 변수명 얻기\n",
        "features = list(pd_data.columns[:-1])\n",
        "\n",
        "# 각 변수를 대상으로 반복문 수행(해당 변수 중 가장 낮은 gini 계수와 변수 출력)\n",
        "for feature in features:\n",
        "    gini = get_attribute_gini_index(pd_data, feature, label)\n",
        "    min_gini = min(gini.items(), key=lambda x: x[1])[1]\n",
        "    print(f\"Minimum Gini index of {feature} :{min_gini:.4f}\")"
      ]
    },
    {
      "cell_type": "markdown",
      "metadata": {
        "id": "VZeB9u-XDyFe"
      },
      "source": [
        "gini index가 가장 작게 나온 'age'를 가장 중요한 변수로 선정합니다.\n",
        "\n",
        "이어서 해당 변수의 이진 분류된 각 class에 대해 Gini index도 계산합니다."
      ]
    },
    {
      "cell_type": "code",
      "execution_count": null,
      "metadata": {
        "colab": {
          "base_uri": "https://localhost:8080/"
        },
        "id": "wuL3eo9TDyFe",
        "outputId": "bd149f99-d251-421e-c91c-0da1a444c90e"
      },
      "outputs": [
        {
          "output_type": "execute_result",
          "data": {
            "text/plain": [
              "{('youth',): 0.3936507936507937,\n",
              " ('middle_aged',): 0.35714285714285715,\n",
              " ('senior',): 0.45714285714285713,\n",
              " ('youth', 'middle_aged'): 0.45714285714285713,\n",
              " ('youth', 'senior'): 0.35714285714285715,\n",
              " ('middle_aged', 'senior'): 0.3936507936507937,\n",
              " ('youth', 'middle_aged', 'senior'): 0.4591836734693877}"
            ]
          },
          "metadata": {},
          "execution_count": 21
        }
      ],
      "source": [
        "get_attribute_gini_index(pd_data, 'age', 'class_buys_computer')"
      ]
    },
    {
      "cell_type": "markdown",
      "metadata": {
        "id": "3lvkqEWuDyFe"
      },
      "source": [
        "'age' 변수에서 gini index가 가장 작게 나온 'middle_aged' class를 선정합니다."
      ]
    },
    {
      "cell_type": "markdown",
      "metadata": {
        "id": "j6DqERM4DyFe"
      },
      "source": [
        "## Entropy 를 구하는 함수 만들기\n",
        "\n",
        "<img src = https://miro.medium.com/max/1122/0*DkWdyGidNSfdT1Nu.png width = \"350\">\n"
      ]
    },
    {
      "cell_type": "code",
      "execution_count": null,
      "metadata": {
        "id": "PbaLY7b_DyFe"
      },
      "outputs": [],
      "source": [
        "from math import log2\n",
        "\n",
        "def getEntropy(df, feature) :\n",
        "\n",
        "    num = len(df)\n",
        "    entropy = 0.0\n",
        "\n",
        "    unique_values = df[feature].unique()\n",
        "\n",
        "    for value in unique_values:\n",
        "        p = len(df[df[feature] == value]) / num\n",
        "        entropy -= p * log2(p)\n",
        "\n",
        "    return entropy"
      ]
    },
    {
      "cell_type": "code",
      "execution_count": null,
      "metadata": {
        "colab": {
          "base_uri": "https://localhost:8080/"
        },
        "id": "J3t5mpEGDyFe",
        "outputId": "b97fb186-7c62-4642-ea7a-13669aeee33a"
      },
      "outputs": [
        {
          "output_type": "execute_result",
          "data": {
            "text/plain": [
              "0.9402859586706311"
            ]
          },
          "metadata": {},
          "execution_count": 23
        }
      ],
      "source": [
        "getEntropy(pd_data, \"class_buys_computer\")"
      ]
    },
    {
      "cell_type": "code",
      "execution_count": null,
      "metadata": {
        "id": "3Vs7huBJDyFf"
      },
      "outputs": [],
      "source": [
        "# 가장 중요한 변수로 선정된 목표변수를 제외한 다른 변수들에 대해\n",
        "# 각 칼럼별로 엔트로피를 구해주는 함수를 작성해주세요.\n",
        "\n",
        "def getGainA(df, feature) :\n",
        "    result = {}\n",
        "    target = getEntropy(df, feature)\n",
        "\n",
        "    for f in df.columns:\n",
        "        if f != feature:\n",
        "            entropy = 0.0\n",
        "            unique_values = df[f].unique()\n",
        "\n",
        "            for value in unique_values:\n",
        "                subset = df[df[f] == value]\n",
        "                entropy += (len(subset) / len(df)) * getEntropy(subset, feature)\n",
        "\n",
        "            result[f] = target - entropy\n",
        "\n",
        "    return result"
      ]
    },
    {
      "cell_type": "code",
      "execution_count": null,
      "metadata": {
        "scrolled": true,
        "colab": {
          "base_uri": "https://localhost:8080/"
        },
        "id": "mI6XQp-gDyFf",
        "outputId": "0187b46b-aa7a-4c19-c151-8ed2af4f3bbf"
      },
      "outputs": [
        {
          "output_type": "execute_result",
          "data": {
            "text/plain": [
              "{'age': 0.24674981977443933,\n",
              " 'income': 0.02922256565895487,\n",
              " 'student': 0.15183550136234159,\n",
              " 'credit_rating': 0.04812703040826949}"
            ]
          },
          "metadata": {},
          "execution_count": 35
        }
      ],
      "source": [
        "getGainA(pd_data, \"class_buys_computer\")"
      ]
    }
  ],
  "metadata": {
    "kernelspec": {
      "display_name": "Python 3",
      "language": "python",
      "name": "python3"
    },
    "language_info": {
      "codemirror_mode": {
        "name": "ipython",
        "version": 3
      },
      "file_extension": ".py",
      "mimetype": "text/x-python",
      "name": "python",
      "nbconvert_exporter": "python",
      "pygments_lexer": "ipython3",
      "version": "3.7.3"
    },
    "toc": {
      "base_numbering": 1,
      "nav_menu": {},
      "number_sections": true,
      "sideBar": true,
      "skip_h1_title": false,
      "title_cell": "Table of Contents",
      "title_sidebar": "Contents",
      "toc_cell": false,
      "toc_position": {},
      "toc_section_display": true,
      "toc_window_display": false
    },
    "colab": {
      "provenance": [],
      "include_colab_link": true
    }
  },
  "nbformat": 4,
  "nbformat_minor": 0
}